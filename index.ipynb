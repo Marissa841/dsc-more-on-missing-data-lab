{
 "cells": [
  {
   "cell_type": "markdown",
   "metadata": {},
   "source": [
    "# More on Missing Data - Lab\n",
    "\n",
    "## Introduction\n",
    "\n",
    "In this lab, you'll continue to practice techniques for dealing with missing data. Moreover, you'll observe the impact on distributions of your data produced by various techniques for dealing with missing data.\n",
    "\n",
    "## Objectives\n",
    "\n",
    "In this lab you will: \n",
    "\n",
    "- Evaluate and execute the best strategy for dealing with missing, duplicate, and erroneous values for a given dataset   \n",
    "- Determine how the distribution of data is affected by imputing values "
   ]
  },
  {
   "cell_type": "markdown",
   "metadata": {},
   "source": [
    "## Load the data\n",
    "\n",
    "To start, load the dataset `'titanic.csv'` using pandas."
   ]
  },
  {
   "cell_type": "code",
   "execution_count": 17,
   "metadata": {},
   "outputs": [],
   "source": [
    "# Your code here\n",
    "import pandas as pd\n",
    "import matplotlib.pyplot as plt"
   ]
  },
  {
   "cell_type": "code",
   "execution_count": 18,
   "metadata": {},
   "outputs": [
    {
     "name": "stdout",
     "output_type": "stream",
     "text": [
      "CONTRIBUTING.md  README.md        titanic.csv\r\n",
      "LICENSE.md       index.ipynb\r\n"
     ]
    }
   ],
   "source": [
    "ls"
   ]
  },
  {
   "cell_type": "code",
   "execution_count": 19,
   "metadata": {},
   "outputs": [],
   "source": [
    "df = pd.read_csv('titanic.csv')"
   ]
  },
  {
   "cell_type": "markdown",
   "metadata": {},
   "source": [
    "Use the `.info()` method to quickly preview which features have missing data"
   ]
  },
  {
   "cell_type": "code",
   "execution_count": 20,
   "metadata": {},
   "outputs": [
    {
     "name": "stdout",
     "output_type": "stream",
     "text": [
      "<class 'pandas.core.frame.DataFrame'>\n",
      "RangeIndex: 1391 entries, 0 to 1390\n",
      "Data columns (total 12 columns):\n",
      " #   Column       Non-Null Count  Dtype  \n",
      "---  ------       --------------  -----  \n",
      " 0   PassengerId  1391 non-null   float64\n",
      " 1   Survived     1391 non-null   float64\n",
      " 2   Pclass       1391 non-null   object \n",
      " 3   Name         1391 non-null   object \n",
      " 4   Sex          1391 non-null   object \n",
      " 5   Age          1209 non-null   float64\n",
      " 6   SibSp        1391 non-null   float64\n",
      " 7   Parch        1391 non-null   float64\n",
      " 8   Ticket       1391 non-null   object \n",
      " 9   Fare         1391 non-null   float64\n",
      " 10  Cabin        602 non-null    object \n",
      " 11  Embarked     1289 non-null   object \n",
      "dtypes: float64(6), object(6)\n",
      "memory usage: 130.5+ KB\n"
     ]
    }
   ],
   "source": [
    "# Your code here\n",
    "df.info()"
   ]
  },
  {
   "cell_type": "markdown",
   "metadata": {},
   "source": [
    "## Observe previous measures of centrality\n",
    "\n",
    "Let's look at the `'Age'` feature. Calculate the mean, median, and standard deviation of this feature. Then plot a histogram of the distribution."
   ]
  },
  {
   "cell_type": "code",
   "execution_count": 21,
   "metadata": {},
   "outputs": [
    {
     "data": {
      "text/plain": [
       "count    1209.000000\n",
       "mean       29.731894\n",
       "std        16.070125\n",
       "min         0.420000\n",
       "25%        20.000000\n",
       "50%        27.000000\n",
       "75%        40.000000\n",
       "max        80.000000\n",
       "Name: Age, dtype: float64"
      ]
     },
     "execution_count": 21,
     "metadata": {},
     "output_type": "execute_result"
    }
   ],
   "source": [
    "# Your code here\n",
    "df['Age'].describe()"
   ]
  },
  {
   "cell_type": "code",
   "execution_count": 22,
   "metadata": {},
   "outputs": [
    {
     "data": {
      "text/plain": [
       "(array([ 42.,  13.,  10.,  15.,   8.,   7.,   6.,  11.,  14.,  10.,  10.,\n",
       "          5.,   3.,  11.,  18.,  21.,  18.,  36.,  27.,  20.,  33., 129.,\n",
       "         19.,  43.,  37.,  22.,  21.,  28.,  35.,  28.,  31.,  20.,  27.,\n",
       "         24.,  26.,  24.,  15.,  13.,  20.,  17.,  18.,  18.,  11.,  17.,\n",
       "         15.,  16.,  18.,  13.,   9.,  13.,  12.,  10.,   7.,  12.,   5.,\n",
       "         15.,   6.,  12.,   6.,   7.,   4.,   5.,   5.,   6.,   6.,   5.,\n",
       "          0.,   0.,   0.,   5.,   7.,   0.,   0.,   6.,   0.,   0.,   0.,\n",
       "          0.,   0.,   3.]),\n",
       " array([ 0.42   ,  1.41475,  2.4095 ,  3.40425,  4.399  ,  5.39375,\n",
       "         6.3885 ,  7.38325,  8.378  ,  9.37275, 10.3675 , 11.36225,\n",
       "        12.357  , 13.35175, 14.3465 , 15.34125, 16.336  , 17.33075,\n",
       "        18.3255 , 19.32025, 20.315  , 21.30975, 22.3045 , 23.29925,\n",
       "        24.294  , 25.28875, 26.2835 , 27.27825, 28.273  , 29.26775,\n",
       "        30.2625 , 31.25725, 32.252  , 33.24675, 34.2415 , 35.23625,\n",
       "        36.231  , 37.22575, 38.2205 , 39.21525, 40.21   , 41.20475,\n",
       "        42.1995 , 43.19425, 44.189  , 45.18375, 46.1785 , 47.17325,\n",
       "        48.168  , 49.16275, 50.1575 , 51.15225, 52.147  , 53.14175,\n",
       "        54.1365 , 55.13125, 56.126  , 57.12075, 58.1155 , 59.11025,\n",
       "        60.105  , 61.09975, 62.0945 , 63.08925, 64.084  , 65.07875,\n",
       "        66.0735 , 67.06825, 68.063  , 69.05775, 70.0525 , 71.04725,\n",
       "        72.042  , 73.03675, 74.0315 , 75.02625, 76.021  , 77.01575,\n",
       "        78.0105 , 79.00525, 80.     ]),\n",
       " <BarContainer object of 80 artists>)"
      ]
     },
     "execution_count": 22,
     "metadata": {},
     "output_type": "execute_result"
    },
    {
     "data": {
      "image/png": "[encoded data removed]",
      "text/plain": [
       "<Figure size 432x288 with 1 Axes>"
      ]
     },
     "metadata": {
      "needs_background": "light"
     },
     "output_type": "display_data"
    }
   ],
   "source": [
    "plt.hist(df['Age'], bins = 80)"
   ]
  },
  {
   "cell_type": "code",
   "execution_count": 23,
   "metadata": {},
   "outputs": [
    {
     "data": {
      "text/plain": [
       "22.0    129\n",
       "18.0     36\n",
       "24.0     36\n",
       "25.0     29\n",
       "30.0     28\n",
       "       ... \n",
       "71.0      4\n",
       "80.0      3\n",
       "13.0      3\n",
       "70.5      3\n",
       "36.5      2\n",
       "Name: Age, Length: 88, dtype: int64"
      ]
     },
     "execution_count": 23,
     "metadata": {},
     "output_type": "execute_result"
    }
   ],
   "source": [
    "df['Age'].value_counts()"
   ]
  },
  {
   "cell_type": "markdown",
   "metadata": {},
   "source": [
    "## Impute missing values using the mean \n",
    "\n",
    "Fill the missing `'Age'` values using the average age. (Don't overwrite the original data, as we will be comparing to other methods for dealing with the missing values.) Then recalculate the mean, median, and std and replot the histogram."
   ]
  },
  {
   "cell_type": "code",
   "execution_count": 24,
   "metadata": {},
   "outputs": [],
   "source": [
    "# Your code here\n",
    "df['Age_mean'] = df['Age'].fillna(df['Age'].mean())"
   ]
  },
  {
   "cell_type": "code",
   "execution_count": 25,
   "metadata": {},
   "outputs": [
    {
     "data": {
      "text/plain": [
       "(array([ 42.,  13.,  10.,  15.,   8.,   7.,   6.,  11.,  14.,  10.,  10.,\n",
       "          5.,   3.,  11.,  18.,  21.,  18.,  36.,  27.,  20.,  33., 129.,\n",
       "         19.,  43.,  37.,  22.,  21.,  28.,  35., 210.,  31.,  20.,  27.,\n",
       "         24.,  26.,  24.,  15.,  13.,  20.,  17.,  18.,  18.,  11.,  17.,\n",
       "         15.,  16.,  18.,  13.,   9.,  13.,  12.,  10.,   7.,  12.,   5.,\n",
       "         15.,   6.,  12.,   6.,   7.,   4.,   5.,   5.,   6.,   6.,   5.,\n",
       "          0.,   0.,   0.,   5.,   7.,   0.,   0.,   6.,   0.,   0.,   0.,\n",
       "          0.,   0.,   3.]),\n",
       " array([ 0.42   ,  1.41475,  2.4095 ,  3.40425,  4.399  ,  5.39375,\n",
       "         6.3885 ,  7.38325,  8.378  ,  9.37275, 10.3675 , 11.36225,\n",
       "        12.357  , 13.35175, 14.3465 , 15.34125, 16.336  , 17.33075,\n",
       "        18.3255 , 19.32025, 20.315  , 21.30975, 22.3045 , 23.29925,\n",
       "        24.294  , 25.28875, 26.2835 , 27.27825, 28.273  , 29.26775,\n",
       "        30.2625 , 31.25725, 32.252  , 33.24675, 34.2415 , 35.23625,\n",
       "        36.231  , 37.22575, 38.2205 , 39.21525, 40.21   , 41.20475,\n",
       "        42.1995 , 43.19425, 44.189  , 45.18375, 46.1785 , 47.17325,\n",
       "        48.168  , 49.16275, 50.1575 , 51.15225, 52.147  , 53.14175,\n",
       "        54.1365 , 55.13125, 56.126  , 57.12075, 58.1155 , 59.11025,\n",
       "        60.105  , 61.09975, 62.0945 , 63.08925, 64.084  , 65.07875,\n",
       "        66.0735 , 67.06825, 68.063  , 69.05775, 70.0525 , 71.04725,\n",
       "        72.042  , 73.03675, 74.0315 , 75.02625, 76.021  , 77.01575,\n",
       "        78.0105 , 79.00525, 80.     ]),\n",
       " <BarContainer object of 80 artists>)"
      ]
     },
     "execution_count": 25,
     "metadata": {},
     "output_type": "execute_result"
    },
    {
     "data": {
      "image/png": "[encoded data removed]",
      "text/plain": [
       "<Figure size 432x288 with 1 Axes>"
      ]
     },
     "metadata": {
      "needs_background": "light"
     },
     "output_type": "display_data"
    }
   ],
   "source": [
    "plt.hist(df['Age_mean'], bins = 80)"
   ]
  },
  {
   "cell_type": "code",
   "execution_count": 26,
   "metadata": {},
   "outputs": [
    {
     "data": {
      "text/plain": [
       "29.731894    182\n",
       "22.000000    129\n",
       "24.000000     36\n",
       "18.000000     36\n",
       "25.000000     29\n",
       "            ... \n",
       "34.500000      4\n",
       "13.000000      3\n",
       "70.500000      3\n",
       "80.000000      3\n",
       "36.500000      2\n",
       "Name: Age_mean, Length: 89, dtype: int64"
      ]
     },
     "execution_count": 26,
     "metadata": {},
     "output_type": "execute_result"
    }
   ],
   "source": [
    "df['Age_mean'].value_counts()"
   ]
  },
  {
   "cell_type": "code",
   "execution_count": 27,
   "metadata": {},
   "outputs": [
    {
     "data": {
      "text/plain": [
       "count    1391.000000\n",
       "mean       29.731894\n",
       "std        14.981155\n",
       "min         0.420000\n",
       "25%        22.000000\n",
       "50%        29.731894\n",
       "75%        37.000000\n",
       "max        80.000000\n",
       "Name: Age_mean, dtype: float64"
      ]
     },
     "execution_count": 27,
     "metadata": {},
     "output_type": "execute_result"
    }
   ],
   "source": [
    "df['Age_mean'].describe()"
   ]
  },
  {
   "cell_type": "code",
   "execution_count": 28,
   "metadata": {},
   "outputs": [
    {
     "data": {
      "text/plain": [
       "count    1209.000000\n",
       "mean       29.731894\n",
       "std        16.070125\n",
       "min         0.420000\n",
       "25%        20.000000\n",
       "50%        27.000000\n",
       "75%        40.000000\n",
       "max        80.000000\n",
       "Name: Age, dtype: float64"
      ]
     },
     "execution_count": 28,
     "metadata": {},
     "output_type": "execute_result"
    }
   ],
   "source": [
    "df['Age'].describe()"
   ]
  },
  {
   "cell_type": "markdown",
   "metadata": {},
   "source": [
    "### Commentary\n",
    "\n",
    "Note that the standard deviation dropped, the median was slightly raised and the distribution has a larger mass near the center."
   ]
  },
  {
   "cell_type": "markdown",
   "metadata": {},
   "source": [
    "## Impute missing values using the median \n",
    "\n",
    "Fill the missing `'Age'` values, this time using the median age. (Again, don't overwrite the original data, as we will be comparing to other methods for dealing with the missing values.) Then recalculate the mean, median, and std and replot the histogram."
   ]
  },
  {
   "cell_type": "code",
   "execution_count": 29,
   "metadata": {},
   "outputs": [],
   "source": [
    "# Your code here\n",
    "df['Age_median'] = df['Age'].fillna(df['Age'].median())"
   ]
  },
  {
   "cell_type": "code",
   "execution_count": 30,
   "metadata": {},
   "outputs": [
    {
     "data": {
      "text/plain": [
       "(array([ 42.,  13.,  10.,  15.,   8.,   7.,   6.,  11.,  14.,  10.,  10.,\n",
       "          5.,   3.,  11.,  18.,  21.,  18.,  36.,  27.,  20.,  33., 129.,\n",
       "         19.,  43.,  37.,  22., 203.,  28.,  35.,  28.,  31.,  20.,  27.,\n",
       "         24.,  26.,  24.,  15.,  13.,  20.,  17.,  18.,  18.,  11.,  17.,\n",
       "         15.,  16.,  18.,  13.,   9.,  13.,  12.,  10.,   7.,  12.,   5.,\n",
       "         15.,   6.,  12.,   6.,   7.,   4.,   5.,   5.,   6.,   6.,   5.,\n",
       "          0.,   0.,   0.,   5.,   7.,   0.,   0.,   6.,   0.,   0.,   0.,\n",
       "          0.,   0.,   3.]),\n",
       " array([ 0.42   ,  1.41475,  2.4095 ,  3.40425,  4.399  ,  5.39375,\n",
       "         6.3885 ,  7.38325,  8.378  ,  9.37275, 10.3675 , 11.36225,\n",
       "        12.357  , 13.35175, 14.3465 , 15.34125, 16.336  , 17.33075,\n",
       "        18.3255 , 19.32025, 20.315  , 21.30975, 22.3045 , 23.29925,\n",
       "        24.294  , 25.28875, 26.2835 , 27.27825, 28.273  , 29.26775,\n",
       "        30.2625 , 31.25725, 32.252  , 33.24675, 34.2415 , 35.23625,\n",
       "        36.231  , 37.22575, 38.2205 , 39.21525, 40.21   , 41.20475,\n",
       "        42.1995 , 43.19425, 44.189  , 45.18375, 46.1785 , 47.17325,\n",
       "        48.168  , 49.16275, 50.1575 , 51.15225, 52.147  , 53.14175,\n",
       "        54.1365 , 55.13125, 56.126  , 57.12075, 58.1155 , 59.11025,\n",
       "        60.105  , 61.09975, 62.0945 , 63.08925, 64.084  , 65.07875,\n",
       "        66.0735 , 67.06825, 68.063  , 69.05775, 70.0525 , 71.04725,\n",
       "        72.042  , 73.03675, 74.0315 , 75.02625, 76.021  , 77.01575,\n",
       "        78.0105 , 79.00525, 80.     ]),\n",
       " <BarContainer object of 80 artists>)"
      ]
     },
     "execution_count": 30,
     "metadata": {},
     "output_type": "execute_result"
    },
    {
     "data": {
      "image/png": "[encoded data removed]",
      "text/plain": [
       "<Figure size 432x288 with 1 Axes>"
      ]
     },
     "metadata": {
      "needs_background": "light"
     },
     "output_type": "display_data"
    }
   ],
   "source": [
    "plt.hist(df['Age_median'], bins = 80)"
   ]
  },
  {
   "cell_type": "code",
   "execution_count": 31,
   "metadata": {},
   "outputs": [
    {
     "data": {
      "text/plain": [
       "count    1391.000000\n",
       "mean       29.374450\n",
       "std        15.009476\n",
       "min         0.420000\n",
       "25%        22.000000\n",
       "50%        27.000000\n",
       "75%        37.000000\n",
       "max        80.000000\n",
       "Name: Age_median, dtype: float64"
      ]
     },
     "execution_count": 31,
     "metadata": {},
     "output_type": "execute_result"
    }
   ],
   "source": [
    "df['Age_median'].describe()"
   ]
  },
  {
   "cell_type": "code",
   "execution_count": 32,
   "metadata": {},
   "outputs": [
    {
     "data": {
      "text/plain": [
       "count    1209.000000\n",
       "mean       29.731894\n",
       "std        16.070125\n",
       "min         0.420000\n",
       "25%        20.000000\n",
       "50%        27.000000\n",
       "75%        40.000000\n",
       "max        80.000000\n",
       "Name: Age, dtype: float64"
      ]
     },
     "execution_count": 32,
     "metadata": {},
     "output_type": "execute_result"
    }
   ],
   "source": [
    "df['Age'].describe()"
   ]
  },
  {
   "cell_type": "markdown",
   "metadata": {},
   "source": [
    "### Commentary\n",
    "\n",
    "Imputing the median has similar effectiveness to imputing the mean. The variance is reduced, while the mean is slightly lowered. You can once again see that there is a larger mass of data near the center of the distribution."
   ]
  },
  {
   "cell_type": "markdown",
   "metadata": {},
   "source": [
    "## Dropping rows\n",
    "\n",
    "Finally, let's observe the impact on the distribution if we were to simply drop all of the rows that are missing an age value. Then, calculate the mean, median and standard deviation of the ages along with a histogram, as before."
   ]
  },
  {
   "cell_type": "code",
   "execution_count": 33,
   "metadata": {},
   "outputs": [
    {
     "data": {
      "text/plain": [
       "count    1209.000000\n",
       "mean       29.731894\n",
       "std        16.070125\n",
       "min         0.420000\n",
       "25%        20.000000\n",
       "50%        27.000000\n",
       "75%        40.000000\n",
       "max        80.000000\n",
       "Name: Age, dtype: float64"
      ]
     },
     "execution_count": 33,
     "metadata": {},
     "output_type": "execute_result"
    }
   ],
   "source": [
    "# Your code here\n",
    "df.dropna(subset = ['Age'])['Age'].describe()"
   ]
  },
  {
   "cell_type": "code",
   "execution_count": 35,
   "metadata": {},
   "outputs": [
    {
     "data": {
      "text/plain": [
       "count    1209.000000\n",
       "mean       29.731894\n",
       "std        16.070125\n",
       "min         0.420000\n",
       "25%        20.000000\n",
       "50%        27.000000\n",
       "75%        40.000000\n",
       "max        80.000000\n",
       "Name: Age, dtype: float64"
      ]
     },
     "execution_count": 35,
     "metadata": {},
     "output_type": "execute_result"
    }
   ],
   "source": [
    "df['Age'].describe()"
   ]
  },
  {
   "cell_type": "code",
   "execution_count": 36,
   "metadata": {},
   "outputs": [
    {
     "data": {
      "text/plain": [
       "PassengerId      0\n",
       "Survived         0\n",
       "Pclass           0\n",
       "Name             0\n",
       "Sex              0\n",
       "Age            182\n",
       "SibSp            0\n",
       "Parch            0\n",
       "Ticket           0\n",
       "Fare             0\n",
       "Cabin          789\n",
       "Embarked       102\n",
       "Age_mean         0\n",
       "Age_median       0\n",
       "dtype: int64"
      ]
     },
     "execution_count": 36,
     "metadata": {},
     "output_type": "execute_result"
    }
   ],
   "source": [
    "df.isnull().sum()"
   ]
  },
  {
   "cell_type": "markdown",
   "metadata": {},
   "source": [
    "### Commentary\n",
    "\n",
    "Dropping missing values leaves the distribution and associated measures of centrality unchanged, but at the cost of throwing away data.\n",
    "\n",
    "## Summary\n",
    "\n",
    "In this lab, you briefly practiced some common techniques for dealing with missing data. Moreover, you observed the impact that these methods had on the distribution of the feature itself. When you begin to tune models on your data, these considerations will be an essential process of developing robust and accurate models."
   ]
  }
 ],
 "metadata": {
  "kernelspec": {
   "display_name": "learn-env",
   "language": "python",
   "name": "learn-env"
  },
  "language_info": {
   "codemirror_mode": {
    "name": "ipython",
    "version": 3
   },
   "file_extension": ".py",
   "mimetype": "text/x-python",
   "name": "python",
   "nbconvert_exporter": "python",
   "pygments_lexer": "ipython3",
   "version": "3.6.9"
  }
 },
 "nbformat": 4,
 "nbformat_minor": 2
}
